{
 "cells": [
  {
   "cell_type": "markdown",
   "metadata": {},
   "source": [
    "# Connected and Autonomous Driving - Planning module\n",
    "\n",
    "----\n",
    "\n",
    "In this module, we will learn how to navigate a map by exploring some popular pathfinding algorithms. All of the algorithm you will use in this lab have been introduced during the class and you can find more detailed descriptions and representations of these algorithms there."
   ]
  },
  {
   "cell_type": "code",
   "execution_count": 3,
   "metadata": {},
   "outputs": [],
   "source": [
    "#Import libraries\n",
    "import math\n",
    "import queue"
   ]
  },
  {
   "cell_type": "markdown",
   "metadata": {},
   "source": [
    "## The graph\n",
    "\n",
    "In order to calculate a best path on a map, we use graph search algorithm. It means we need to look at what our graph is first, and how it represent our map. \n",
    "\n",
    "This Graph is simply a set of Vertices and Edges: \n",
    "- The Vertices represent the possible points to explore, from which we can start or end. \n",
    "- The Edges represent the connections between those Vertices. \n"
   ]
  },
  {
   "cell_type": "code",
   "execution_count": 6,
   "metadata": {},
   "outputs": [
    {
     "name": "stdout",
     "output_type": "stream",
     "text": [
      "[[0, 0, 0, 0], [0, 0, 0, 0], [0, 0, 0, 0], [0, 0, 0, 0]]\n",
      "{(0, 0): [((1, 0), 0), ((0, 1), 0)], (1, 0): [((0, 0), 0), ((2, 0), 0), ((1, 1), 0)], (0, 1): [((1, 1), 0), ((0, 0), 0), ((0, 2), 0)], (1, 1): [((0, 1), 0), ((2, 1), 0), ((1, 0), 0), ((1, 2), 0)], (0, 2): [((1, 2), 0), ((0, 1), 0), ((0, 3), 0)], (1, 2): [((0, 2), 0), ((2, 2), 0), ((1, 1), 0), ((1, 3), 0)], (0, 3): [((1, 3), 0), ((0, 2), 0)], (1, 3): [((0, 3), 0), ((2, 3), 0), ((1, 2), 0)], (2, 0): [((1, 0), 0), ((3, 0), 0), ((2, 1), 0)], (2, 1): [((1, 1), 0), ((3, 1), 0), ((2, 0), 0), ((2, 2), 0)], (2, 2): [((1, 2), 0), ((3, 2), 0), ((2, 1), 0), ((2, 3), 0)], (2, 3): [((1, 3), 0), ((3, 3), 0), ((2, 2), 0)], (3, 0): [((2, 0), 0), ((3, 1), 0)], (3, 1): [((2, 1), 0), ((3, 0), 0), ((3, 2), 0)], (3, 2): [((2, 2), 0), ((3, 1), 0), ((3, 3), 0)], (3, 3): [((2, 3), 0), ((3, 2), 0)]}\n",
      "[(2, 1), (3, 0), (3, 2)]\n",
      "0\n"
     ]
    }
   ],
   "source": [
    "class Graph():\n",
    "    \n",
    "    def __init__(self):\n",
    "        #The Vertice and edges are stored in the edges dictionnary: \n",
    "        #   - every Vertice is stored in the dict.\n",
    "        #   - every Edge is assigned to the Vertice it starts from\n",
    "        #   - every Edge is of the form (V,w) where V is the other vertice it leads to, and w the weight of that edge\n",
    "        self.edges = {}\n",
    "    \n",
    "    def add_edges(self, origin, dest, weight=0):\n",
    "        #Add a new Edge that goes from origin to dest\n",
    "        #If one of the 2 Vertice does not exist in the dictionary, create it\n",
    "        if origin not in self.edges:\n",
    "            self.edges[origin] = []\n",
    "        if dest not in self.edges:\n",
    "            self.edges[dest] = []\n",
    "        self.edges[origin].append((dest, weight))\n",
    "    \n",
    "    def neighbors(self, node):\n",
    "        #Takes a Vertice and returns all other Vertice it has an Edge toward.\n",
    "        if node not in self.edges:\n",
    "            print(\"Vertice not found:\",node)\n",
    "            return[]\n",
    "        neighbors=[]\n",
    "        for edge in self.edges[node]:\n",
    "            neighbors.append(edge[0])\n",
    "        return(neighbors)\n",
    "        \n",
    "\n",
    "    def build_grid(self, G):\n",
    "        #Takes a 2D list and return and build a rectangular grid in its shape.\n",
    "        #The values in G provide the weights of the connections leading to that Vertice in the grid\n",
    "        nb_row, nb_col = len(G), len(G[0])\n",
    "        for row in range(nb_row):\n",
    "            for col in range(nb_col):\n",
    "                for (i,j) in [(-1,0),(1,0),(0,-1),(0,1)]:\n",
    "                        if (-1<row+i and row+i<nb_row and -1<col+j and col+j<nb_col):\n",
    "                            self.add_edges((row,col),(row+i,col+j),weight=G[row+i][col+j])\n",
    "\n",
    "    def cost(self, origin, dest):\n",
    "        if origin in self.edges and dest in self.edges:\n",
    "            for edge in self.edges[origin]:\n",
    "                if edge[0]==dest:\n",
    "                    return edge[1]\n",
    "            print(\"There is no edge between those vertice\")\n",
    "        else:\n",
    "            print(\"Vertice not found\")\n",
    "        return[]\n",
    "\n",
    "\n",
    "\n",
    "g = Graph()\n",
    "graph = [[0 for column in range(4)]\n",
    "                      for row in range(4)]\n",
    "print(graph)\n",
    "g.build_grid(graph)\n",
    "print(g.edges)\n",
    "print(g.neighbors((3,1)))\n",
    "print(g.cost((0,1),(0,0)))\n"
   ]
  },
  {
   "cell_type": "markdown",
   "metadata": {},
   "source": [
    "## Graph search\n",
    "\n",
    "Let's start with the most intuitive graph search strategy: exploring everything.\n",
    "\n",
    "### Breadth first search\n",
    "\n",
    "In this first algorithm, we start from an origin point, and from there explore its neighbors. We repeat the operation for every new neighbors while remembering which Vertice led us to it. Once we reach the destination as one of the new neighbour, we walk back our steps to see all the Vertices on our path.\n",
    "We need 2 list: one to store the new points to explore at the frontier of our search, and one to store already explored points. In order to get the path to the target, we also need every reached point to 'remember' which Vertice it was reached from.\n",
    "\n",
    "Fill the missing code below to complete the algorithm:"
   ]
  },
  {
   "cell_type": "code",
   "execution_count": 10,
   "metadata": {},
   "outputs": [
    {
     "name": "stdout",
     "output_type": "stream",
     "text": [
      "[(0, 0), (1, 0), (2, 0), (2, 1), (2, 2)]\n"
     ]
    }
   ],
   "source": [
    "def BreadthFirst(graph, start, goal):\n",
    "    frontier = queue.Queue()\n",
    "    frontier.put(start )\n",
    "    came_from = dict() # path A->B is stored as came_from[B] == A\n",
    "    came_from[start] = None\n",
    "\n",
    "    while not frontier.empty():\n",
    "    ##TODO##\n",
    "        current = frontier.get()\n",
    "        if current == goal:\n",
    "            break \n",
    "    ##TODO##  \n",
    "        for next in graph.neighbors(current):\n",
    "         ##TODO##\n",
    "            if next not in came_from:\n",
    "                frontier.put(next)\n",
    "                came_from[next] = current  \n",
    "        ##TODO##\n",
    "    return(walkback(came_from, start, goal))\n",
    "\n",
    "def walkback(came, start, goal):\n",
    "    path=[]\n",
    "    backward_node=goal\n",
    "    ##TODO##\n",
    "    if goal not in came:\n",
    "        print(f\"Goal {goal} was not reached by the algorithm\")\n",
    "        return[]\n",
    "    ##TODO##\n",
    "    while backward_node!= start:\n",
    "      ##TODO##\n",
    "        path.append(backward_node)\n",
    "        backward_node = came[backward_node]   \n",
    "    path.append(start)\n",
    "    path.reverse()     \n",
    "      ##TODO##\n",
    "    return(path)\n",
    "\n",
    "\n",
    "print(BreadthFirst(g, (0,0),(2,2)))\n"
   ]
  },
  {
   "cell_type": "markdown",
   "metadata": {},
   "source": [
    "#### - What is the advantage of using a dict() to store the explored Vertices ?\n",
    "\n",
    "Using a dictionary makes it possible to associate each explored vertex with its predecessor in an efficient way. This makes it easier to reconstruct the path at the end (using came_from()) and quickly check whether a vertex has already been explored.\n",
    "\n",
    "#### - Why use a queue instead of a list for frontier Vertices ?\n",
    "\n",
    "A queue guarantees a FIFO (First-In-First-Out) processing order, which is necessary for a BFS algorithm. This is because the vertices closest to the source are explored first. If a list were used, it would be possible to process the vertices in an incorrect order (so not necessarily FIFO), which would make the algorithm inefficient for finding the shortest path.\n",
    "\n",
    "#### - Do you think your algorithm explore many unnecessary Vertices ?\n",
    "\n",
    "Yes, because BFS explores ALL the summits at a certain level, before moving on to the next level. So they explore useless summits that don't lead to the objective.\n",
    "\n",
    "#### - Are there specific scenario where it can fail to find a best path ?\n",
    "\n",
    "BFS cannot fail to find a path if the path exists and the graph is connected.\n",
    "\n",
    "But it can fail in scenarios where the edges have different weights. This is because BFS treats all edges as having the same weight, so it doesn't always find the cheapest path, but simply the path with the fewest vertices. In this type of path, it is preferable to use Djikstra for example (which we have already used at the Bachelor)."
   ]
  },
  {
   "cell_type": "markdown",
   "metadata": {},
   "source": [
    "### Dijkstra\n",
    "\n",
    "Although the previous method finds a best path, it is not the most efficient. Moreover, it does not work when we are dealing with a weighted graph where some Vertices are more expensive than others. In our application for exemple, not all CARLA waypoints are at the same distance from each other.\n",
    "\n",
    "To solve this issue, Dijkstra improve Breadth First Search by turning the Queue into a Weighted Queue that look at the cost of visiting new Vertices. Instead of visiting the oldest Vertice in the queue, Dijkstra's visit the lowest total cost note, where the total cost represent the length of the from that Vertice to the origin.\n",
    "\n",
    "$$ Vertice_{next} = Frontier [\\min(cost)]$$\n"
   ]
  },
  {
   "cell_type": "code",
   "execution_count": 16,
   "metadata": {},
   "outputs": [],
   "source": [
    "def dijkstra(graph, start, goal):\n",
    "    # Initialisation of the priority queue (frontier) with the starting point and an initial cost of 0\n",
    "    frontier = queue.PriorityQueue()\n",
    "    frontier.put((0, start))  # The priority is the accumulated cost up to the node\n",
    "    came_from = dict()  # Stores the path (parent node of each node visited)\n",
    "    cost_so_far = dict()  # Stores the total cost to reach each node\n",
    "    came_from[start] = None  # The starting point has no parent\n",
    "    cost_so_far[start] = 0  # The cost of reaching the starting point is 0\n",
    "\n",
    "    while not frontier.empty():\n",
    "        ##TODO##\n",
    "        # extract the node with the lowest total cost\n",
    "        current_cost, current = frontier.get()\n",
    "\n",
    "        # If you have reached your objective, you can stop the search (you have reached your goal)\n",
    "        if current == goal:\n",
    "            break\n",
    "        ##TODO##\n",
    "\n",
    "        ##TODO##\n",
    "        # browse all the neighbours of the currend node\n",
    "        for next in graph.neighbors(current):\n",
    "            # calculate the new cost of reaching your neighbour\n",
    "            new_cost = cost_so_far[current] + graph.cost(current, next)\n",
    "         ##TODO##\n",
    "            ##TODO##\n",
    "            # in the case where this neighbour has not yet been visited \n",
    "            if next not in cost_so_far or new_cost < cost_so_far[next]:\n",
    "                cost_so_far[next] = new_cost  # we update the cost to reach this node\n",
    "                priority = new_cost  # the priority in the queue is the new cost\n",
    "                frontier.put((priority, next))  # aadd the neighbour in the queue with his priority\n",
    "                came_from[next] = current  # record where we have come from to reach our neighbour\n",
    "            ##TODO##\n",
    "    return walkback(came_from, start, goal)\n"
   ]
  },
  {
   "cell_type": "markdown",
   "metadata": {},
   "source": [
    "#### - How does the weighted queue improve the previous algorithm ?\n",
    "\n",
    "The weighted queue improves on the previous algorithm by taking into account the costs associated with each edge. This allows Djikstra to find the LEAST expensive path. So not the path with the fewest vertices, but the path with the lowest total cost. This ensures that the shortest path is taken.\n",
    "\n",
    "#### - Is your Dijkstra exploring fewer unnecessary Vertices than previous methodes ? Why ?\n",
    "\n",
    "Yes, Djikstra explores fewer unnecessary vertices because BFS does not differentiate between vertices in terms of cost. As mentioned in a previous box. In the case where the weight represents km (1 = 1km), if a path with 3 vertices has a weight of 1 and another path with 2 vertices but weights of 5, BFS will choose the 2nd path. This is because the source and destination are separated by 2 vertices. However, the first path is shorter, because even though there are 3 vertices, the total cost (the distance in km) is lower than the second path. Djikstra solves this problem by prioritising the vertices with the lowest cost, which reduces unnecessary exploration in expensive or dead-end directions.\n",
    "\n",
    "#### - Think of a scenario where Dijkstra outperform Breadth First Search and show both of their results in this scenario below (tips: think about the weights)\n",
    "\n",
    "I've already taken a simple example just above, with different weights. But using the graph below, here's what we'll do:\n",
    "\n",
    "The starting point is: (1, 1) and the end point is: (2, 6)\n"
   ]
  },
  {
   "cell_type": "code",
   "execution_count": 19,
   "metadata": {
    "scrolled": true
   },
   "outputs": [
    {
     "data": {
      "text/plain": [
       "[(1, 1), (0, 1), (0, 2), (0, 3), (0, 4), (0, 5), (0, 6), (1, 6), (2, 6)]"
      ]
     },
     "execution_count": 19,
     "metadata": {},
     "output_type": "execute_result"
    }
   ],
   "source": [
    "g_w = Graph()\n",
    "graph = [[1, 1, 1, 1, 1, 1, 1, 1, 1],\n",
    "         [1, 2, 5, 1, 1, 1, 1, 1, 1],  # the 2 is the point (1, 1) (starting point)\n",
    "         [1, 5, 1, 1, 1, 1, 2, 1, 1],  # the 2 is the point (2, 6) (end point)\n",
    "         [1, 1, 1, 1, 1, 1, 1, 1, 1],\n",
    "         [1, 1, 1, 1, 1, 1, 1, 1, 1],\n",
    "         [1, 1, 1, 1, 1, 1, 1, 1, 1]]\n",
    "\n",
    "g_w.build_grid(graph)\n",
    "\n",
    "dijkstra(g_w, (1,1), (2,6))\n",
    "\n",
    "# I just add weight in (1,3) & (3,1) because they are mandatory for BFS if he wants to have the shortest path to (2,6). \n",
    "# But the weight with BFS is 9, whereas the weight of the path that you can see in the output below is only 7. \n",
    "# So here, Djikstra outperform BFS."
   ]
  },
  {
   "cell_type": "markdown",
   "metadata": {},
   "source": [
    "## Looking back and ahead: A* algorithm\n",
    "\n",
    "While Dijkstra's always look at the past from the origin when choosing a new Vertice to explore, A* also look at the destination using a heuristic. This heuristic defines a way to estimate distances in the graph and always estimate the distance between the current Vertice and the destination.\n",
    "\n",
    "Then, the strategy is the same is Dijkstra's, but adding the heuristic from the current Vertice to the goal to the cost when evaluating the next Vertice to visit:\n",
    "\n",
    "$$ Vertice_{next} = Frontier [\\min(cost + heuristic)]$$"
   ]
  },
  {
   "cell_type": "markdown",
   "metadata": {},
   "source": [
    "### Notes by Maxence\n",
    "#### How does the A* algorithm make a heuristic estimate? How can it ‘predict’ future costs?\n",
    "\n",
    "A heuristic is a mathematical function that estimates the remaining cost by giving a reasonable approximation, based on the knowledge it possesses.\n",
    "\n",
    "Example of common heuristics:\n",
    "\n",
    "In a geometric graph (such as a plane with x and y positions):\n",
    "\n",
    "- If we have a Euclidean distance: Straight distance between two points (as the crow flies) we have the square root of : (x2 - x1^2) + (y2 - y1^2). This case for a route could be likened to ‘if you know the map’.\n",
    "\n",
    "- If we have a Manhattan distance: Distance in a straight line on a grid (we traverse the grid using vertical and horizontal lines) then it is: (|x2 - x1| + |y2 - y1|). This case for a route could be likened to ‘if you know the streets’.\n",
    "\n",
    "Knowing that x1, x2 are the coordinates of the starting point and y1, y2 the coordinates of the destination.\n",
    "\n",
    "This is the only information the heuristic can have in our case anyway. So it estimates with this."
   ]
  },
  {
   "cell_type": "code",
   "execution_count": 23,
   "metadata": {},
   "outputs": [],
   "source": [
    "def heuristic(a, b):\n",
    "   # Manhattan distance on a square grid\n",
    "   return abs(a[0] - b[0]) + abs(a[1] - b[1])\n",
    "\n",
    "def A_star(graph, start, goal):\n",
    "    frontier = queue.PriorityQueue()\n",
    "    frontier.put((0, start))\n",
    "    came_from = dict()\n",
    "    cost_so_far = dict()\n",
    "    came_from[start] = None\n",
    "    cost_so_far[start] = 0\n",
    "\n",
    "    while not frontier.empty():\n",
    "        ##TODO##\n",
    "        current_priority, current = frontier.get()\n",
    "        \n",
    "        if current == goal:\n",
    "            break\n",
    "        ##TODO##\n",
    "        for next in graph.neighbors(current):\n",
    "            ##TODO##\n",
    "        \n",
    "            ##TODO##\n",
    "            new_cost = cost_so_far[current] + graph.cost(current, next)\n",
    "            \n",
    "            if next not in cost_so_far or new_cost < cost_so_far[next]:\n",
    "                ##TODO##\n",
    "                cost_so_far[next] = new_cost\n",
    "                priority = new_cost + heuristic(next, goal)\n",
    "                frontier.put((priority, next))\n",
    "                came_from[next] = current\n",
    "                ##TODO##\n",
    "    return(walkback(came_from, start, goal))"
   ]
  },
  {
   "cell_type": "markdown",
   "metadata": {},
   "source": [
    "#### - How does the heuristic improve the previous algorithm ?\n",
    "\n",
    "By adding a heuristic to the A* algorithm, I improve the search by ‘guiding’ the exploration of nodes. \n",
    "\n",
    "Unlike Djikstra, which explores nearby nodes on the basis of accumulated costs, A* will use the heuristic to ‘predict’ the remaining cost of reaching the destination. This limits unnecessary exploration.\n",
    "\n",
    "It also speeds up the search because the past cost and the estimated heuristic can be used to prioritise the nodes that ‘look’ most promising. So the search space is smaller.\n",
    "\n",
    "For example, in the graph just below, you can see a weight ‘barrier’ of 10 verticals. Djikstra would have found the path with the lowest total cost. But he would have explored many possibilities unnecessarily. With the A* algorithm, he avoids the most costly areas more quickly thanks to his heuristic, which identifies a better route.\n",
    "\n",
    "#### - Is your A* exploring fewer unnecessary Vertices than previous methodes ? Why ?\n",
    "\n",
    "Yes, A* explores fewer useless vertices than BFS and Djikstra? And that's the whole point.\n",
    "\n",
    "BFS explores ALL nodes indiscriminately, based solely on their proximity in terms of level. This can lead to the exploration of a large part of the graph before reaching the destination.\n",
    "\n",
    "A* avoids this monotonous and blind exploration by using heuristics to jump directly to regions of the graph that seem more promising.\n",
    "\n",
    "I've already compared Djikstra and A* in the previous question, but Djikstra ONLY evaalises the total costs with the paths already explored. But this can lead to several paths being explored, which would be potentially costly, before finding one / the best path.\n",
    "\n",
    "A* combines past costs like Djikstra, but adds an estimate of future costs (see box ‘how A* performs a heuristic estimate’). So it can concentrate on optimal paths from the outset, reducing unnecessary explorations.\n",
    "\n",
    "\n",
    "EXAMPLE with the graph below:\n",
    "\n",
    "The 4th column contains a ‘barrier’ with a weight of 10.\n",
    "\n",
    "BFS or Djikstra would have explored these costly regions to try and find a solution, whereas A* avoids them by favouring less costly paths thanks to the heuristic."
   ]
  },
  {
   "cell_type": "code",
   "execution_count": 26,
   "metadata": {},
   "outputs": [
    {
     "name": "stdout",
     "output_type": "stream",
     "text": [
      "[(5, 0), (4, 0), (3, 0), (3, 1), (3, 2), (3, 3), (2, 3), (2, 4), (2, 5), (3, 5)]\n"
     ]
    }
   ],
   "source": [
    "graph = graph = [[1,1,1,1,10,1,1,1,1],\n",
    "                 [1,1,1,1,10,1,1,1,1],\n",
    "                 [1,1,1,1,1,1,1,1,1],\n",
    "                 [1,1,1,1,10,1,1,1,1],\n",
    "                 [1,1,1,1,10,1,1,1,1],\n",
    "                 [1,1,1,1,10,1,1,1,1]]\n",
    " \n",
    "maze = Graph()\n",
    "maze.build_grid(graph)\n",
    "\n",
    "start = (5, 0)\n",
    "end = (3, 5)\n",
    "\n",
    "path = A_star(maze, start, end)\n",
    "print(path)\n"
   ]
  },
  {
   "cell_type": "markdown",
   "metadata": {},
   "source": [
    "## Moving to CARLA\n",
    "\n",
    "You have now successfully completed the Jupyter part of this module. In order to integrate this module in the CARLA simulation, go the the global_route_planner.py file. The current planner uses an A* library to calculate a path in the _path_search() method. \n",
    "\n",
    "Uncomment the astar_path() method above it and finish its code using what you learned here. Then replace the currently called nx.astar() in _path_search() with self.astar_path."
   ]
  }
 ],
 "metadata": {
  "kernelspec": {
   "display_name": "Python 3 (ipykernel)",
   "language": "python",
   "name": "python3"
  },
  "language_info": {
   "codemirror_mode": {
    "name": "ipython",
    "version": 3
   },
   "file_extension": ".py",
   "mimetype": "text/x-python",
   "name": "python",
   "nbconvert_exporter": "python",
   "pygments_lexer": "ipython3",
   "version": "3.11.5"
  }
 },
 "nbformat": 4,
 "nbformat_minor": 4
}
